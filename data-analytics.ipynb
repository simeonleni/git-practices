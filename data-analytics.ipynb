{
 "cells": [
  {
   "cell_type": "markdown",
   "metadata": {},
   "source": [
    "##### Numeric\n",
    "\n",
    "**There are three types on numeric data**\n",
    "\n",
    "* Integer\n",
    "* Complex Numbers\n",
    "* Float"
   ]
  },
  {
   "cell_type": "code",
   "execution_count": 1,
   "metadata": {},
   "outputs": [
    {
     "name": "stdout",
     "output_type": "stream",
     "text": [
      "This in an integer: 123\n",
      "That was turned into a complex number: (123+0j)\n",
      "And turned into a float number: 123.0\n"
     ]
    }
   ],
   "source": [
    "# Integers\n",
    "integer = 123\n",
    "complex_number = complex(integer)\n",
    "float = float(integer)\n",
    "print(f'This in an integer: {integer}\\nThat was turned into a complex number: {complex_number}\\nAnd turned into a float number: {float}')"
   ]
  },
  {
   "cell_type": "markdown",
   "metadata": {},
   "source": [
    "<br>\n",
    "\n",
    "##### Dictionary\n",
    "\n",
    "* Dictionary is a key and value data type\n",
    "* Doesn't allow duplicate keys\n",
    "* In JavaScript it's an **Object**"
   ]
  },
  {
   "cell_type": "code",
   "execution_count": 2,
   "metadata": {},
   "outputs": [
    {
     "name": "stdout",
     "output_type": "stream",
     "text": [
      "An Apple is crucial for your health\n",
      "<class 'dict'>\n"
     ]
    }
   ],
   "source": [
    "x = {\n",
    "    'A':'Apple',\n",
    "    'B':'Banana',\n",
    "    'C':'Carrot'\n",
    "}\n",
    "\n",
    "print(f'An {x[\"A\"]} is crucial for your health\\n{type(x)}')"
   ]
  },
  {
   "cell_type": "markdown",
   "metadata": {},
   "source": [
    "<br>\n",
    "\n",
    "##### Boolean\n",
    "\n",
    "Basicaly a Boolean is **TRUE** **FALSE**"
   ]
  },
  {
   "cell_type": "code",
   "execution_count": 3,
   "metadata": {},
   "outputs": [
    {
     "name": "stdout",
     "output_type": "stream",
     "text": [
      "True\n"
     ]
    }
   ],
   "source": [
    "x = 1\n",
    "y = x == 1\n",
    "print(y == True)"
   ]
  },
  {
   "cell_type": "markdown",
   "metadata": {},
   "source": [
    "<br>\n",
    "\n",
    "##### Set\n",
    "\n",
    "* Undordered, unchangable list\n",
    "* of any data type\n",
    "* Doesn't allow Duplicate values\n",
    "* Once created cannot be changed\n",
    "* But you can add and remove items"
   ]
  },
  {
   "cell_type": "code",
   "execution_count": 6,
   "metadata": {},
   "outputs": [
    {
     "name": "stdout",
     "output_type": "stream",
     "text": [
      "Simeon\n",
      "2023-09-01\n",
      "2003-05-25\n",
      "21\n"
     ]
    }
   ],
   "source": [
    "import datetime\n",
    "today = datetime.date.today()\n",
    "birth = datetime.date(2003, 5, 25)\n",
    "\n",
    "me = {'Simeon', 21, today, birth}\n",
    "\n",
    "for data in me:\n",
    "    print(data)\n"
   ]
  }
 ],
 "metadata": {
  "kernelspec": {
   "display_name": "Python 3",
   "language": "python",
   "name": "python3"
  },
  "language_info": {
   "codemirror_mode": {
    "name": "ipython",
    "version": 3
   },
   "file_extension": ".py",
   "mimetype": "text/x-python",
   "name": "python",
   "nbconvert_exporter": "python",
   "pygments_lexer": "ipython3",
   "version": "3.11.4"
  },
  "orig_nbformat": 4
 },
 "nbformat": 4,
 "nbformat_minor": 2
}
